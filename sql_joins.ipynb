{
  "nbformat": 4,
  "nbformat_minor": 0,
  "metadata": {
    "colab": {
      "provenance": []
    },
    "kernelspec": {
      "name": "python3",
      "display_name": "Python 3"
    },
    "language_info": {
      "name": "python"
    }
  },
  "cells": [
    {
      "cell_type": "markdown",
      "source": [
        "sql joins "
      ],
      "metadata": {
        "id": "PDx9lAJkC6Ly"
      }
    },
    {
      "cell_type": "code",
      "execution_count": null,
      "metadata": {
        "colab": {
          "base_uri": "https://localhost:8080/"
        },
        "id": "qY5FACD_p6wK",
        "outputId": "0d4fdbc0-8815-4f12-db14-14c5579b7995"
      },
      "outputs": [
        {
          "output_type": "stream",
          "name": "stdout",
          "text": [
            "Looking in indexes: https://pypi.org/simple, https://us-python.pkg.dev/colab-wheels/public/simple/\n",
            "Requirement already satisfied: pyspark in /usr/local/lib/python3.7/dist-packages (3.3.0)\n",
            "Requirement already satisfied: py4j==0.10.9.5 in /usr/local/lib/python3.7/dist-packages (from pyspark) (0.10.9.5)\n"
          ]
        }
      ],
      "source": [
        "pip install pyspark"
      ]
    },
    {
      "cell_type": "code",
      "source": [
        "import pyspark\n",
        "from pyspark.sql.functions import  *\n",
        "from pyspark.sql import SparkSession\n",
        "spark=SparkSession.builder.getOrCreate()\n",
        "from pyspark.sql.functions import UserDefinedFunction\n",
        "from pyspark.sql.types import StringType\n",
        "from pyspark.sql.window import Window\n",
        "import pyspark.sql.functions as F"
      ],
      "metadata": {
        "id": "JFoN1-KMp87Y"
      },
      "execution_count": null,
      "outputs": []
    },
    {
      "cell_type": "code",
      "source": [
        "d =[[1,'Emmanuel','1','india','karnatka','bidar'],[2,'simon','2','india','karnatka','bidar']]\n",
        "\n",
        "c =['roll','name','class','country','state','district']\n",
        "\n",
        "df1 = spark.createDataFrame(d,c)\n",
        "\n",
        "df1.show()\n",
        "df1.createOrReplaceTempView(\"df1\")"
      ],
      "metadata": {
        "colab": {
          "base_uri": "https://localhost:8080/"
        },
        "id": "H0B4zg_QqAQC",
        "outputId": "1a3ef0f9-dee2-484c-b78e-fdb72e586a85"
      },
      "execution_count": null,
      "outputs": [
        {
          "output_type": "stream",
          "name": "stdout",
          "text": [
            "+----+--------+-----+-------+--------+--------+\n",
            "|roll|    name|class|country|   state|district|\n",
            "+----+--------+-----+-------+--------+--------+\n",
            "|   1|Emmanuel|    1|  india|karnatka|   bidar|\n",
            "|   2|   simon|    2|  india|karnatka|   bidar|\n",
            "+----+--------+-----+-------+--------+--------+\n",
            "\n"
          ]
        }
      ]
    },
    {
      "cell_type": "code",
      "source": [
        "d =[[1,'emmanuel','1','india','karnatka','bidar'],[100,'hero','2','pak','kar','hip']]\n",
        "\n",
        "c =['roll','srname','ad','zero','hero','district']\n",
        "\n",
        "df2 = spark.createDataFrame(d,c)\n",
        "\n",
        "df2.show()\n",
        "df2.createOrReplaceTempView(\"df2\")"
      ],
      "metadata": {
        "colab": {
          "base_uri": "https://localhost:8080/"
        },
        "id": "La4z2K65qa3j",
        "outputId": "82b0a97c-ef61-40f6-9aa8-c7831ad615b0"
      },
      "execution_count": null,
      "outputs": [
        {
          "output_type": "stream",
          "name": "stdout",
          "text": [
            "+----+--------+---+-----+--------+--------+\n",
            "|roll|  srname| ad| zero|    hero|district|\n",
            "+----+--------+---+-----+--------+--------+\n",
            "|   1|emmanuel|  1|india|karnatka|   bidar|\n",
            "| 100|    hero|  2|  pak|     kar|     hip|\n",
            "+----+--------+---+-----+--------+--------+\n",
            "\n"
          ]
        }
      ]
    },
    {
      "cell_type": "code",
      "source": [
        "spark.sql(\"select*from df1 left join df2 on df1.roll=df2.roll\").show()"
      ],
      "metadata": {
        "colab": {
          "base_uri": "https://localhost:8080/"
        },
        "id": "MKqAairMrJ04",
        "outputId": "1d432127-30a6-4982-a672-a51cf1aedcfb"
      },
      "execution_count": null,
      "outputs": [
        {
          "output_type": "stream",
          "name": "stdout",
          "text": [
            "+----+--------+-----+-------+--------+--------+----+--------+----+-----+--------+--------+\n",
            "|roll|    name|class|country|   state|district|roll|  srname|  ad| zero|    hero|district|\n",
            "+----+--------+-----+-------+--------+--------+----+--------+----+-----+--------+--------+\n",
            "|   1|Emmanuel|    1|  india|karnatka|   bidar|   1|emmanuel|   1|india|karnatka|   bidar|\n",
            "|   2|   simon|    2|  india|karnatka|   bidar|null|    null|null| null|    null|    null|\n",
            "+----+--------+-----+-------+--------+--------+----+--------+----+-----+--------+--------+\n",
            "\n"
          ]
        }
      ]
    },
    {
      "cell_type": "code",
      "source": [
        "spark.sql(\"select*from df1 d1 join df2 d2 on d1.roll=d2.roll \").show()"
      ],
      "metadata": {
        "colab": {
          "base_uri": "https://localhost:8080/"
        },
        "id": "w2rZLVSCrf1S",
        "outputId": "e6fc6729-1a6a-4361-ce70-4f27f2f4a112"
      },
      "execution_count": null,
      "outputs": [
        {
          "output_type": "stream",
          "name": "stdout",
          "text": [
            "+----+--------+-----+-------+--------+--------+----+--------+---+-----+--------+--------+\n",
            "|roll|    name|class|country|   state|district|roll|  srname| ad| zero|    hero|district|\n",
            "+----+--------+-----+-------+--------+--------+----+--------+---+-----+--------+--------+\n",
            "|   1|Emmanuel|    1|  india|karnatka|   bidar|   1|emmanuel|  1|india|karnatka|   bidar|\n",
            "+----+--------+-----+-------+--------+--------+----+--------+---+-----+--------+--------+\n",
            "\n"
          ]
        }
      ]
    },
    {
      "cell_type": "code",
      "source": [
        "spark.sql(\"select*from df1 d1 left join df2 d2 on d1.roll=d2.roll\").show()"
      ],
      "metadata": {
        "colab": {
          "base_uri": "https://localhost:8080/"
        },
        "id": "nxAhU-XH-TKh",
        "outputId": "86528882-e239-4296-a241-39414d6895c4"
      },
      "execution_count": null,
      "outputs": [
        {
          "output_type": "stream",
          "name": "stdout",
          "text": [
            "+----+--------+-----+-------+--------+--------+----+--------+----+-----+--------+--------+\n",
            "|roll|    name|class|country|   state|district|roll|  srname|  ad| zero|    hero|district|\n",
            "+----+--------+-----+-------+--------+--------+----+--------+----+-----+--------+--------+\n",
            "|   1|Emmanuel|    1|  india|karnatka|   bidar|   1|emmanuel|   1|india|karnatka|   bidar|\n",
            "|   2|   simon|    2|  india|karnatka|   bidar|null|    null|null| null|    null|    null|\n",
            "+----+--------+-----+-------+--------+--------+----+--------+----+-----+--------+--------+\n",
            "\n"
          ]
        }
      ]
    },
    {
      "cell_type": "code",
      "source": [
        "spark.sql(\"select*from df2 d2 right join df1 d1 on d1.roll = d2.roll\").show()"
      ],
      "metadata": {
        "colab": {
          "base_uri": "https://localhost:8080/"
        },
        "id": "-ZcJM9SCAdoH",
        "outputId": "daced505-bcc0-49d6-c3b4-4e989e8b5cb4"
      },
      "execution_count": null,
      "outputs": [
        {
          "output_type": "stream",
          "name": "stdout",
          "text": [
            "+----+--------+----+-----+--------+--------+----+--------+-----+-------+--------+--------+\n",
            "|roll|  srname|  ad| zero|    hero|district|roll|    name|class|country|   state|district|\n",
            "+----+--------+----+-----+--------+--------+----+--------+-----+-------+--------+--------+\n",
            "|   1|emmanuel|   1|india|karnatka|   bidar|   1|Emmanuel|    1|  india|karnatka|   bidar|\n",
            "|null|    null|null| null|    null|    null|   2|   simon|    2|  india|karnatka|   bidar|\n",
            "+----+--------+----+-----+--------+--------+----+--------+-----+-------+--------+--------+\n",
            "\n"
          ]
        }
      ]
    },
    {
      "cell_type": "code",
      "source": [
        "spark.sql(\"select*from df1 full join df2 on df1.roll=df2.roll\").show()"
      ],
      "metadata": {
        "colab": {
          "base_uri": "https://localhost:8080/"
        },
        "id": "zA8A6ai6AvGt",
        "outputId": "9defdc2f-f4fd-4984-b2a5-cb2e51119517"
      },
      "execution_count": null,
      "outputs": [
        {
          "output_type": "stream",
          "name": "stdout",
          "text": [
            "+----+--------+-----+-------+--------+--------+----+--------+----+-----+--------+--------+\n",
            "|roll|    name|class|country|   state|district|roll|  srname|  ad| zero|    hero|district|\n",
            "+----+--------+-----+-------+--------+--------+----+--------+----+-----+--------+--------+\n",
            "|   1|Emmanuel|    1|  india|karnatka|   bidar|   1|emmanuel|   1|india|karnatka|   bidar|\n",
            "|   2|   simon|    2|  india|karnatka|   bidar|null|    null|null| null|    null|    null|\n",
            "|null|    null| null|   null|    null|    null| 100|    hero|   2|  pak|     kar|     hip|\n",
            "+----+--------+-----+-------+--------+--------+----+--------+----+-----+--------+--------+\n",
            "\n"
          ]
        }
      ]
    },
    {
      "cell_type": "code",
      "source": [
        "spark.sql('select*from df1 inner join df2 on df1.roll=df2.roll').show()"
      ],
      "metadata": {
        "colab": {
          "base_uri": "https://localhost:8080/"
        },
        "id": "uWb19CEyBZT8",
        "outputId": "2e89db34-b0ac-4181-8421-807e8ae30f75"
      },
      "execution_count": null,
      "outputs": [
        {
          "output_type": "stream",
          "name": "stdout",
          "text": [
            "+----+--------+-----+-------+--------+--------+----+--------+---+-----+--------+--------+\n",
            "|roll|    name|class|country|   state|district|roll|  srname| ad| zero|    hero|district|\n",
            "+----+--------+-----+-------+--------+--------+----+--------+---+-----+--------+--------+\n",
            "|   1|Emmanuel|    1|  india|karnatka|   bidar|   1|emmanuel|  1|india|karnatka|   bidar|\n",
            "+----+--------+-----+-------+--------+--------+----+--------+---+-----+--------+--------+\n",
            "\n"
          ]
        }
      ]
    },
    {
      "cell_type": "code",
      "source": [
        "spark.sql(\"select*from df1 natural left join df2 \").show()"
      ],
      "metadata": {
        "colab": {
          "base_uri": "https://localhost:8080/"
        },
        "id": "oT37Kgq6COn7",
        "outputId": "bba8d389-347d-4122-c279-6af813c711fa"
      },
      "execution_count": null,
      "outputs": [
        {
          "output_type": "stream",
          "name": "stdout",
          "text": [
            "+----+--------+--------+-----+-------+--------+--------+----+-----+--------+\n",
            "|roll|district|    name|class|country|   state|  srname|  ad| zero|    hero|\n",
            "+----+--------+--------+-----+-------+--------+--------+----+-----+--------+\n",
            "|   1|   bidar|Emmanuel|    1|  india|karnatka|emmanuel|   1|india|karnatka|\n",
            "|   2|   bidar|   simon|    2|  india|karnatka|    null|null| null|    null|\n",
            "+----+--------+--------+-----+-------+--------+--------+----+-----+--------+\n",
            "\n"
          ]
        }
      ]
    },
    {
      "cell_type": "code",
      "source": [],
      "metadata": {
        "id": "yRNzG19aCsts"
      },
      "execution_count": null,
      "outputs": []
    },
    {
      "cell_type": "markdown",
      "source": [],
      "metadata": {
        "id": "pU_Vb-xiC3Jx"
      }
    }
  ]
}